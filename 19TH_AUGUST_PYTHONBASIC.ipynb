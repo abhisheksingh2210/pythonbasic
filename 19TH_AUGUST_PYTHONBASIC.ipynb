{
 "cells": [
  {
   "cell_type": "code",
   "execution_count": 1,
   "id": "644bcb36-5d6c-4593-b47c-a0617bf42d83",
   "metadata": {},
   "outputs": [],
   "source": [
    "\"\"\" question 1 :- Declare two variables, `x` and `y`, and assign them integer values. Swap the\n",
    "values of these variables without using any temporary variable \"\"\"\n",
    "x,y=2,4"
   ]
  },
  {
   "cell_type": "code",
   "execution_count": 2,
   "id": "945f3185-eced-4466-bcb9-9d4d4d0a936c",
   "metadata": {},
   "outputs": [],
   "source": [
    "x=x+y\n",
    "y=x-y\n",
    "x=x-y"
   ]
  },
  {
   "cell_type": "code",
   "execution_count": 3,
   "id": "ad2b4a94-0fd9-4e2e-93a7-2bee17ba8ce5",
   "metadata": {},
   "outputs": [
    {
     "data": {
      "text/plain": [
       "(4, 2)"
      ]
     },
     "execution_count": 3,
     "metadata": {},
     "output_type": "execute_result"
    }
   ],
   "source": [
    "x,y"
   ]
  },
  {
   "cell_type": "code",
   "execution_count": 4,
   "id": "1429a7ca-6fa3-4559-85b3-c711e372fe69",
   "metadata": {},
   "outputs": [
    {
     "name": "stdin",
     "output_type": "stream",
     "text": [
      " 7\n"
     ]
    }
   ],
   "source": [
    "\"\"\"Question 2 :- Create a program that calculates the area of a rectangle. Take the length and\n",
    "width as inputs from the user and store them in variables. Calculate and\n",
    "display the area.\"\"\"\n",
    "\n",
    "length= int(input())\n"
   ]
  },
  {
   "cell_type": "code",
   "execution_count": 5,
   "id": "e6c97dae-746d-4570-95dd-dfc3331f04b6",
   "metadata": {},
   "outputs": [
    {
     "name": "stdin",
     "output_type": "stream",
     "text": [
      " 4\n"
     ]
    }
   ],
   "source": [
    "width= int(input())"
   ]
  },
  {
   "cell_type": "code",
   "execution_count": 6,
   "id": "a965cf68-f525-4829-9bad-4f64519f6e8b",
   "metadata": {},
   "outputs": [],
   "source": [
    "area= length * width"
   ]
  },
  {
   "cell_type": "code",
   "execution_count": 7,
   "id": "483f33c4-cb49-4671-bd8c-650b23e49421",
   "metadata": {},
   "outputs": [
    {
     "data": {
      "text/plain": [
       "28"
      ]
     },
     "execution_count": 7,
     "metadata": {},
     "output_type": "execute_result"
    }
   ],
   "source": [
    "area"
   ]
  },
  {
   "cell_type": "code",
   "execution_count": 8,
   "id": "50320d53-a2a9-4703-a5fa-0ab0700e2f67",
   "metadata": {},
   "outputs": [
    {
     "name": "stdin",
     "output_type": "stream",
     "text": [
      " 5\n"
     ]
    }
   ],
   "source": [
    "\"\"\" Question 3 Write a Python program that converts temperatures from Celsius to\n",
    "Fahrenheit. Take the temperature in Celsius as input, store it in a variable,\n",
    "convert it to Fahrenheit, and display the result.\"\"\"\n",
    "celsius = int (input())"
   ]
  },
  {
   "cell_type": "code",
   "execution_count": 9,
   "id": "39c7184e-f88e-431f-917f-822449cf7bd7",
   "metadata": {},
   "outputs": [],
   "source": [
    "fah=(9/5 * celsius) +32"
   ]
  },
  {
   "cell_type": "code",
   "execution_count": 10,
   "id": "1ee94e9a-a94b-401b-926f-a6f06762b649",
   "metadata": {},
   "outputs": [
    {
     "data": {
      "text/plain": [
       "41.0"
      ]
     },
     "execution_count": 10,
     "metadata": {},
     "output_type": "execute_result"
    }
   ],
   "source": [
    "fah"
   ]
  },
  {
   "cell_type": "code",
   "execution_count": 11,
   "id": "01945bf4-e106-4470-8d4d-cf83010a68d3",
   "metadata": {},
   "outputs": [
    {
     "name": "stdin",
     "output_type": "stream",
     "text": [
      " physicswallahverse\n"
     ]
    }
   ],
   "source": [
    "\"\"\"Question 1 from string :- Write a Python program that takes a string as input and prints the length of\n",
    "the string.\"\"\"\n",
    "st= input()"
   ]
  },
  {
   "cell_type": "code",
   "execution_count": 12,
   "id": "7591f496-2b45-4ed8-b39d-4734b3f1a366",
   "metadata": {},
   "outputs": [
    {
     "data": {
      "text/plain": [
       "18"
      ]
     },
     "execution_count": 12,
     "metadata": {},
     "output_type": "execute_result"
    }
   ],
   "source": [
    "len(st)"
   ]
  },
  {
   "cell_type": "code",
   "execution_count": 22,
   "id": "d35f99d7-4419-4703-ab7f-bd284b896271",
   "metadata": {},
   "outputs": [
    {
     "name": "stdin",
     "output_type": "stream",
     "text": [
      " abhisheksingh\n"
     ]
    }
   ],
   "source": [
    "\"\"\"\" question 2 ;- Create a program that takes a sentence from the user and counts the number\n",
    "of vowels (a, e, i, o, u) in the string\"\"\"\n",
    "vowelcount=0\n",
    "st = input()"
   ]
  },
  {
   "cell_type": "code",
   "execution_count": 23,
   "id": "530f0777-65d0-4fb2-b93a-70c76b0fff5c",
   "metadata": {},
   "outputs": [],
   "source": [
    "for char in st:\n",
    "     if char.lower() in ['a', 'e', 'i', 'o', 'u']:\n",
    "    \n",
    "    \n",
    "        vowelcount += 1\n",
    "    "
   ]
  },
  {
   "cell_type": "code",
   "execution_count": 24,
   "id": "c01703c6-37c7-4623-891e-c19efdc870ac",
   "metadata": {},
   "outputs": [
    {
     "data": {
      "text/plain": [
       "4"
      ]
     },
     "execution_count": 24,
     "metadata": {},
     "output_type": "execute_result"
    }
   ],
   "source": [
    "vowelcount"
   ]
  },
  {
   "cell_type": "code",
   "execution_count": 25,
   "id": "1f0e8491-25ac-48ad-a6f1-f21c4704e1ad",
   "metadata": {},
   "outputs": [],
   "source": [
    "\"\"\" question 3:- Given a string, reverse the order of characters using string slicing and print\n",
    "the reversed string.\"\"\"\n",
    "\n",
    "st= \"abhishek\""
   ]
  },
  {
   "cell_type": "code",
   "execution_count": 29,
   "id": "0b1e1075-a416-4ce6-bac0-a86be5bdf751",
   "metadata": {},
   "outputs": [
    {
     "data": {
      "text/plain": [
       "'kehsihba'"
      ]
     },
     "execution_count": 29,
     "metadata": {},
     "output_type": "execute_result"
    }
   ],
   "source": [
    "st[::-1]"
   ]
  },
  {
   "cell_type": "code",
   "execution_count": 2,
   "id": "95f83c65-8ba0-472c-a8fa-8856f7921aa5",
   "metadata": {},
   "outputs": [
    {
     "data": {
      "text/plain": [
       "' Question 4 :- Write a program that takes a string as input and checks if it is a palindrome\\n(reads the same forwards and backwards).'"
      ]
     },
     "execution_count": 2,
     "metadata": {},
     "output_type": "execute_result"
    }
   ],
   "source": [
    "\"\"\" Question 4 :- Write a program that takes a string as input and checks if it is a palindrome\n",
    "(reads the same forwards and backwards).\"\"\"\n",
    "\n"
   ]
  },
  {
   "cell_type": "code",
   "execution_count": 17,
   "id": "a65f3333-1983-463c-923a-228605e3ccea",
   "metadata": {},
   "outputs": [
    {
     "name": "stdin",
     "output_type": "stream",
     "text": [
      " nitin\n"
     ]
    }
   ],
   "source": [
    "s=input()"
   ]
  },
  {
   "cell_type": "code",
   "execution_count": 19,
   "id": "1ad1dba6-a7bb-457b-93d3-8b1bd53aac3d",
   "metadata": {},
   "outputs": [],
   "source": [
    "revstr=(s[::-1])"
   ]
  },
  {
   "cell_type": "code",
   "execution_count": 20,
   "id": "25377067-a943-49f3-b831-deee1bfe6325",
   "metadata": {},
   "outputs": [
    {
     "name": "stdout",
     "output_type": "stream",
     "text": [
      "it is\n"
     ]
    }
   ],
   "source": [
    "if revstr==s:\n",
    "    print(\"it is\")\n",
    "  \n",
    "   "
   ]
  },
  {
   "cell_type": "code",
   "execution_count": 21,
   "id": "43a4fb37-a98f-4e36-8998-9b8eb9998f6d",
   "metadata": {},
   "outputs": [],
   "source": [
    "if revstr!=s:\n",
    "    print(\"it is not\")"
   ]
  },
  {
   "cell_type": "code",
   "execution_count": 22,
   "id": "40e214e6-57dd-47a3-9779-4eac7f27a430",
   "metadata": {},
   "outputs": [
    {
     "name": "stdin",
     "output_type": "stream",
     "text": [
      " abhishek is a boy\n"
     ]
    }
   ],
   "source": [
    "\"\"\"question 5 :- Create a program that takes a string as input and removes all the spaces from\n",
    "it. Print the modified string without spaces.\"\"\"\n",
    "\n",
    "str = input()"
   ]
  },
  {
   "cell_type": "code",
   "execution_count": 23,
   "id": "d040a6c8-57be-4bd6-a9db-3e4c233b8d8a",
   "metadata": {},
   "outputs": [],
   "source": [
    "newstr=str.replace(\" \",\"\")"
   ]
  },
  {
   "cell_type": "code",
   "execution_count": 24,
   "id": "ffc574db-9346-4513-9a61-57ed4ede247e",
   "metadata": {},
   "outputs": [
    {
     "data": {
      "text/plain": [
       "'abhishekisaboy'"
      ]
     },
     "execution_count": 24,
     "metadata": {},
     "output_type": "execute_result"
    }
   ],
   "source": [
    "newstr"
   ]
  },
  {
   "cell_type": "code",
   "execution_count": null,
   "id": "853e29ba-2251-47bf-affb-31d43828f625",
   "metadata": {},
   "outputs": [],
   "source": []
  }
 ],
 "metadata": {
  "kernelspec": {
   "display_name": "Python 3 (ipykernel)",
   "language": "python",
   "name": "python3"
  },
  "language_info": {
   "codemirror_mode": {
    "name": "ipython",
    "version": 3
   },
   "file_extension": ".py",
   "mimetype": "text/x-python",
   "name": "python",
   "nbconvert_exporter": "python",
   "pygments_lexer": "ipython3",
   "version": "3.10.8"
  }
 },
 "nbformat": 4,
 "nbformat_minor": 5
}
